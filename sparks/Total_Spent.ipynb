{
  "nbformat": 4,
  "nbformat_minor": 0,
  "metadata": {
    "colab": {
      "provenance": []
    },
    "kernelspec": {
      "name": "python3",
      "display_name": "Python 3"
    },
    "language_info": {
      "name": "python"
    }
  },
  "cells": [
    {
      "cell_type": "code",
      "execution_count": 3,
      "metadata": {
        "colab": {
          "base_uri": "https://localhost:8080/",
          "height": 0
        },
        "id": "ahqP2dW2Xkma",
        "outputId": "8ca5bb53-ad62-4db7-b785-f9b00bb58521"
      },
      "outputs": [
        {
          "output_type": "stream",
          "name": "stdout",
          "text": [
            "+---------+-----------+\n",
            "| Customer|Total Spent|\n",
            "+---------+-----------+\n",
            "|Customer1|        150|\n",
            "|Customer2|        200|\n",
            "+---------+-----------+\n",
            "\n"
          ]
        }
      ],
      "source": [
        "#Task 5: Implement Total Spent by Customer with DataFrames\n",
        "\n",
        "from pyspark.sql import SparkSession\n",
        "\n",
        "spark = SparkSession.builder.appName(\"Total Spent\").getOrCreate()\n",
        "\n",
        "# Sample data\n",
        "data = [(\"Customer1\", 100), (\"Customer2\", 200), (\"Customer1\", 50)]\n",
        "columns = [\"Customer\", \"Amount\"]\n",
        "df = spark.createDataFrame(data, columns)\n",
        "\n",
        "# Calculate total spent\n",
        "total_spent = df.groupBy(\"Customer\").sum(\"Amount\").withColumnRenamed(\"sum(Amount)\", \"Total Spent\")\n",
        "total_spent.show()\n",
        "\n",
        "spark.stop()\n"
      ]
    },
    {
      "cell_type": "code",
      "source": [],
      "metadata": {
        "id": "Ov5BN8EJXqk-"
      },
      "execution_count": null,
      "outputs": []
    }
  ]
}