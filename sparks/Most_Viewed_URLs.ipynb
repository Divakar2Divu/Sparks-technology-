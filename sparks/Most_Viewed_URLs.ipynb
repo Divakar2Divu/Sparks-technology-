{
  "nbformat": 4,
  "nbformat_minor": 0,
  "metadata": {
    "colab": {
      "provenance": []
    },
    "kernelspec": {
      "name": "python3",
      "display_name": "Python 3"
    },
    "language_info": {
      "name": "python"
    }
  },
  "cells": [
    {
      "cell_type": "code",
      "execution_count": 6,
      "metadata": {
        "colab": {
          "base_uri": "https://localhost:8080/"
        },
        "id": "ahqP2dW2Xkma",
        "outputId": "9fa77b5e-a7a6-4db7-8710-772945e5f950"
      },
      "outputs": [
        {
          "output_type": "stream",
          "name": "stdout",
          "text": [
            "+--------------------+----+-----+\n",
            "|              window| URL|count|\n",
            "+--------------------+----+-----+\n",
            "|{2025-01-26 10:00...|url1|    1|\n",
            "|{2025-01-26 10:00...|url2|    1|\n",
            "+--------------------+----+-----+\n",
            "\n"
          ]
        }
      ],
      "source": [
        "#Task 8: Use Windows with Structured Streaming to Track Most-Viewed URLs\n",
        "\n",
        "from pyspark.sql import SparkSession\n",
        "from pyspark.sql.functions import window, col\n",
        "\n",
        "spark = SparkSession.builder.appName(\"Structured Streaming\").getOrCreate()\n",
        "\n",
        "# Simulated streaming data\n",
        "data = [(\"url1\", \"2025-01-26 10:00:00\"), (\"url2\", \"2025-01-26 10:01:00\")]\n",
        "columns = [\"URL\", \"Timestamp\"]\n",
        "static_df = spark.createDataFrame(data, columns)\n",
        "\n",
        "# Process data with window\n",
        "windowed_df = static_df.groupBy(window(col(\"Timestamp\"), \"10 minutes\"), \"URL\").count()\n",
        "windowed_df.show()\n",
        "\n",
        "spark.stop()\n"
      ]
    },
    {
      "cell_type": "code",
      "source": [],
      "metadata": {
        "id": "Ov5BN8EJXqk-"
      },
      "execution_count": null,
      "outputs": []
    }
  ]
}