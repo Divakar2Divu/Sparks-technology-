{
  "nbformat": 4,
  "nbformat_minor": 0,
  "metadata": {
    "colab": {
      "provenance": []
    },
    "kernelspec": {
      "name": "python3",
      "display_name": "Python 3"
    },
    "language_info": {
      "name": "python"
    }
  },
  "cells": [
    {
      "cell_type": "code",
      "execution_count": 1,
      "metadata": {
        "colab": {
          "base_uri": "https://localhost:8080/",
          "height": 0
        },
        "id": "ahqP2dW2Xkma",
        "outputId": "ffee7397-2121-4c54-951c-f099c6e2e621"
      },
      "outputs": [
        {
          "output_type": "stream",
          "name": "stdout",
          "text": [
            "[('hello', 3), ('world', 1), ('PySpark', 1), ('everyone', 1)]\n"
          ]
        }
      ],
      "source": [
        "#Task 3: Counting Word Occurrences using flatMap()\n",
        "\n",
        "from pyspark import SparkContext\n",
        "\n",
        "sc = SparkContext(\"local\", \"Word Count\")\n",
        "\n",
        "# Sample text data\n",
        "data = [\"hello world\", \"hello PySpark\", \"hello everyone\"]\n",
        "rdd = sc.parallelize(data)\n",
        "\n",
        "# Count word occurrences\n",
        "word_counts = rdd.flatMap(lambda line: line.split()) \\\n",
        "                 .map(lambda word: (word, 1)) \\\n",
        "                 .reduceByKey(lambda x, y: x + y)\n",
        "print(word_counts.collect())\n",
        "\n",
        "sc.stop()\n"
      ]
    },
    {
      "cell_type": "code",
      "source": [],
      "metadata": {
        "id": "Ov5BN8EJXqk-"
      },
      "execution_count": null,
      "outputs": []
    }
  ]
}