{
  "nbformat": 4,
  "nbformat_minor": 0,
  "metadata": {
    "colab": {
      "provenance": []
    },
    "kernelspec": {
      "name": "python3",
      "display_name": "Python 3"
    },
    "language_info": {
      "name": "python"
    }
  },
  "cells": [
    {
      "cell_type": "code",
      "execution_count": 2,
      "metadata": {
        "colab": {
          "base_uri": "https://localhost:8080/",
          "height": 0
        },
        "id": "ahqP2dW2Xkma",
        "outputId": "d5c0ba5e-1ec9-4466-98e8-e786c8cbb9a4"
      },
      "outputs": [
        {
          "output_type": "stream",
          "name": "stdout",
          "text": [
            "+----+---+\n",
            "|Name|Age|\n",
            "+----+---+\n",
            "|John| 30|\n",
            "|Mary| 35|\n",
            "+----+---+\n",
            "\n"
          ]
        }
      ],
      "source": [
        "#Task 4: Executing SQL Commands and SQL-style Functions on a DataFrame\n",
        "\n",
        "from pyspark.sql import SparkSession\n",
        "\n",
        "spark = SparkSession.builder.appName(\"SQL Example\").getOrCreate()\n",
        "\n",
        "# Sample DataFrame\n",
        "data = [(\"John\", 30), (\"Jane\", 25), (\"Mary\", 35)]\n",
        "columns = [\"Name\", \"Age\"]\n",
        "df = spark.createDataFrame(data, columns)\n",
        "\n",
        "# Register DataFrame as a SQL temporary view\n",
        "df.createOrReplaceTempView(\"people\")\n",
        "\n",
        "# Execute SQL query\n",
        "result = spark.sql(\"SELECT Name, Age FROM people WHERE Age > 28\")\n",
        "result.show()\n",
        "\n",
        "spark.stop()\n"
      ]
    },
    {
      "cell_type": "code",
      "source": [],
      "metadata": {
        "id": "Ov5BN8EJXqk-"
      },
      "execution_count": null,
      "outputs": []
    }
  ]
}