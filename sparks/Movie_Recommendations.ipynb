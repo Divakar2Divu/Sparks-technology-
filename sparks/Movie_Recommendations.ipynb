{
  "nbformat": 4,
  "nbformat_minor": 0,
  "metadata": {
    "colab": {
      "provenance": []
    },
    "kernelspec": {
      "name": "python3",
      "display_name": "Python 3"
    },
    "language_info": {
      "name": "python"
    }
  },
  "cells": [
    {
      "cell_type": "code",
      "execution_count": 5,
      "metadata": {
        "colab": {
          "base_uri": "https://localhost:8080/",
          "height": 0
        },
        "id": "ahqP2dW2Xkma",
        "outputId": "3d0508fc-1df2-4b13-f5e6-8eabec96f377"
      },
      "outputs": [
        {
          "output_type": "stream",
          "name": "stdout",
          "text": [
            "+------+--------------------+\n",
            "|UserID|     recommendations|\n",
            "+------+--------------------+\n",
            "|     1|[{101, 4.8650656}...|\n",
            "|     2|[{103, 3.8954074}...|\n",
            "+------+--------------------+\n",
            "\n"
          ]
        }
      ],
      "source": [
        "#Task 7: Using Spark ML to Produce Movie Recommendations\n",
        "\n",
        "from pyspark.ml.recommendation import ALS\n",
        "from pyspark.sql import SparkSession\n",
        "\n",
        "spark = SparkSession.builder.appName(\"Movie Recommendations\").getOrCreate()\n",
        "\n",
        "# Sample data\n",
        "data = [(1, 101, 5.0), (1, 102, 4.0), (2, 101, 3.0), (2, 103, 4.0)]\n",
        "columns = [\"UserID\", \"MovieID\", \"Rating\"]\n",
        "df = spark.createDataFrame(data, columns)\n",
        "\n",
        "# ALS Model\n",
        "als = ALS(userCol=\"UserID\", itemCol=\"MovieID\", ratingCol=\"Rating\", nonnegative=True)\n",
        "model = als.fit(df)\n",
        "\n",
        "# Generate recommendations\n",
        "recommendations = model.recommendForAllUsers(2)\n",
        "recommendations.show()\n",
        "\n",
        "spark.stop()\n"
      ]
    },
    {
      "cell_type": "code",
      "source": [],
      "metadata": {
        "id": "Ov5BN8EJXqk-"
      },
      "execution_count": null,
      "outputs": []
    }
  ]
}