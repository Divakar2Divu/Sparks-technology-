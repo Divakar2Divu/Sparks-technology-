{
  "nbformat": 4,
  "nbformat_minor": 0,
  "metadata": {
    "colab": {
      "provenance": []
    },
    "kernelspec": {
      "name": "python3",
      "display_name": "Python 3"
    },
    "language_info": {
      "name": "python"
    }
  },
  "cells": [
    {
      "cell_type": "code",
      "execution_count": 4,
      "metadata": {
        "colab": {
          "base_uri": "https://localhost:8080/",
          "height": 0
        },
        "id": "ahqP2dW2Xkma",
        "outputId": "c027227d-6b15-4cb5-cc02-b0669bbd462d"
      },
      "outputs": [
        {
          "output_type": "stream",
          "name": "stdout",
          "text": [
            "[('Inception', 5), ('Interstellar', 4), ('Tenet', 3)]\n"
          ]
        }
      ],
      "source": [
        "# Task 6: Use Broadcast Variables to Display Movie Names Instead of ID Numbers\n",
        "\n",
        "from pyspark.sql import SparkSession\n",
        "from pyspark import SparkContext\n",
        "\n",
        "sc = SparkContext(\"local\", \"Broadcast Example\")\n",
        "spark = SparkSession.builder.getOrCreate()\n",
        "\n",
        "# Broadcast variable\n",
        "movies = {1: \"Inception\", 2: \"Interstellar\", 3: \"Tenet\"}\n",
        "broadcast_movies = sc.broadcast(movies)\n",
        "\n",
        "# Sample RDD with movie IDs\n",
        "data = [(1, 5), (2, 4), (3, 3)]\n",
        "rdd = sc.parallelize(data)\n",
        "\n",
        "# Map movie IDs to names\n",
        "result = rdd.map(lambda x: (broadcast_movies.value.get(x[0]), x[1]))\n",
        "print(result.collect())\n",
        "\n",
        "sc.stop()\n"
      ]
    },
    {
      "cell_type": "code",
      "source": [],
      "metadata": {
        "id": "Ov5BN8EJXqk-"
      },
      "execution_count": null,
      "outputs": []
    }
  ]
}