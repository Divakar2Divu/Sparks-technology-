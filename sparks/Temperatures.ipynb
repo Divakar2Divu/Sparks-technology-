{
  "nbformat": 4,
  "nbformat_minor": 0,
  "metadata": {
    "colab": {
      "provenance": []
    },
    "kernelspec": {
      "name": "python3",
      "display_name": "Python 3"
    },
    "language_info": {
      "name": "python"
    }
  },
  "cells": [
    {
      "cell_type": "code",
      "execution_count": 1,
      "metadata": {
        "colab": {
          "base_uri": "https://localhost:8080/",
          "height": 0
        },
        "id": "i2FFvm77W0oM",
        "outputId": "a95d7dfe-faa7-4b95-d676-3559daa78311"
      },
      "outputs": [
        {
          "output_type": "stream",
          "name": "stdout",
          "text": [
            "Minimum Temperatures by Location:\n",
            "NY: 25°C\n",
            "CA: 35°C\n",
            "\n",
            "Maximum Temperatures by Location:\n",
            "NY: 30°C\n",
            "CA: 42°C\n"
          ]
        }
      ],
      "source": [
        "#Taks 2 Code for Filtering RDDs and Finding Min and Max Temperatures by Location\n",
        "\n",
        "from pyspark import SparkConf, SparkContext\n",
        "\n",
        "# Initialize SparkContext\n",
        "if 'sc' in locals() or 'sc' in globals():\n",
        "    sc.stop()\n",
        "\n",
        "conf = SparkConf().setMaster(\"local[*]\").setAppName(\"Min and Max Temperature Example\")\n",
        "sc = SparkContext(conf=conf)\n",
        "\n",
        "# Sample data (location, temperature)\n",
        "data = [(\"NY\", 30), (\"NY\", 25), (\"CA\", 40), (\"CA\", 35), (\"NY\", 28), (\"CA\", 42)]\n",
        "\n",
        "# Create RDD\n",
        "rdd = sc.parallelize(data)\n",
        "\n",
        "# Find minimum temperature by location\n",
        "min_temps = rdd.reduceByKey(lambda x, y: min(x, y))\n",
        "\n",
        "# Find maximum temperature by location\n",
        "max_temps = rdd.reduceByKey(lambda x, y: max(x, y))\n",
        "\n",
        "# Collect and print the results\n",
        "print(\"Minimum Temperatures by Location:\")\n",
        "for location, temp in min_temps.collect():\n",
        "    print(f\"{location}: {temp}°C\")\n",
        "\n",
        "print(\"\\nMaximum Temperatures by Location:\")\n",
        "for location, temp in max_temps.collect():\n",
        "    print(f\"{location}: {temp}°C\")\n",
        "\n",
        "# Stop SparkContext\n",
        "sc.stop()\n"
      ]
    },
    {
      "cell_type": "code",
      "source": [],
      "metadata": {
        "id": "dtUfw6MsW3QD"
      },
      "execution_count": null,
      "outputs": []
    }
  ]
}