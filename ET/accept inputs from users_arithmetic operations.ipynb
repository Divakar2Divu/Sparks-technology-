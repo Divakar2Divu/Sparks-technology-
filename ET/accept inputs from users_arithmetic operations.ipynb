{
  "nbformat": 4,
  "nbformat_minor": 0,
  "metadata": {
    "colab": {
      "provenance": []
    },
    "kernelspec": {
      "name": "python3",
      "display_name": "Python 3"
    },
    "language_info": {
      "name": "python"
    }
  },
  "cells": [
    {
      "cell_type": "code",
      "execution_count": 7,
      "metadata": {
        "colab": {
          "base_uri": "https://localhost:8080/"
        },
        "id": "od8gDdHHFtrh",
        "outputId": "8e95ca7f-dea2-4336-e638-a7a8ca3a6a92"
      },
      "outputs": [
        {
          "output_type": "stream",
          "name": "stdout",
          "text": [
            "enter first number \n",
            "25\n",
            "enter second number \n",
            "45\n",
            "add: 70\n",
            "sub: 70\n",
            "div: 0.5555555555555556\n",
            "mul: 1125\n",
            "floordiv: 0\n",
            "exp: 807793566946316088741610050849573099185363389551639556884765625\n",
            "mod: 25\n"
          ]
        }
      ],
      "source": [
        "num1 = int(input(\"enter first number \\n\"))\n",
        "num2 = int(input(\"enter second number \\n\"))\n",
        "print(\"add:\", num1+num2)\n",
        "print(\"sub:\", num1+num2)\n",
        "print(\"div:\", num1/num2)\n",
        "print(\"mul:\", num1*num2)\n",
        "print(\"floordiv:\", num1//num2)\n",
        "print(\"exp:\", num1**num2)\n",
        "print(\"mod:\",num1 % num2)"
      ]
    },
    {
      "cell_type": "code",
      "source": [],
      "metadata": {
        "id": "v1ozC4qvF0Mj"
      },
      "execution_count": null,
      "outputs": []
    }
  ]
}