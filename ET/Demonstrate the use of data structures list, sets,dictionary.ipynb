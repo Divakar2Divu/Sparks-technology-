{
  "nbformat": 4,
  "nbformat_minor": 0,
  "metadata": {
    "colab": {
      "provenance": []
    },
    "kernelspec": {
      "name": "python3",
      "display_name": "Python 3"
    },
    "language_info": {
      "name": "python"
    }
  },
  "cells": [
    {
      "cell_type": "code",
      "execution_count": 11,
      "metadata": {
        "colab": {
          "base_uri": "https://localhost:8080/"
        },
        "id": "od8gDdHHFtrh",
        "outputId": "7f71fb6e-c515-411d-eee2-f27c1c087439"
      },
      "outputs": [
        {
          "output_type": "stream",
          "name": "stdout",
          "text": [
            "After append: [10, 20, 25, 30, 40, 50, 60]\n",
            "After clear: []\n",
            "Copy of list: [10, 25, 20, 30, 40, 50]\n",
            "Popped item: 50\n",
            "After pop: [10, 25, 20, 30, 40]\n",
            "After remove: [10, 20, 30, 40]\n"
          ]
        }
      ],
      "source": [
        "#List Operations\n",
        "my_list = [10, 20, 25, 30, 40, 50]\n",
        "# Append\n",
        "my_list.append(60)\n",
        "print(\"After append:\", my_list)\n",
        "# Clear\n",
        "my_list.clear()\n",
        "print(\"After clear:\", my_list)\n",
        "# Copy\n",
        "my_list = [10, 25, 20, 30, 40, 50]\n",
        "copy_of_my_list = my_list.copy()\n",
        "print(\"Copy of list:\", copy_of_my_list)\n",
        "# Pop\n",
        "last_item = my_list.pop()\n",
        "print(\"Popped item:\", last_item)\n",
        "print(\"After pop:\", my_list)\n",
        "# Remove\n",
        "my_list.remove(25)\n",
        "print(\"After remove:\", my_list)\n"
      ]
    },
    {
      "cell_type": "code",
      "source": [
        "#Tuple Operations\n",
        "Tuple1 = ('a', 'b', 'c', 'd')\n",
        "Tuple2 = ('e', 'f', 'g', 'h')\n",
        "# Repetition\n",
        "repeated_Tuple1 = Tuple1 * 2\n",
        "print(\"Repeated Tuple1:\", repeated_Tuple1)\n",
        "# Concatenation\n",
        "concatenated_Tuples = Tuple1 + Tuple2\n",
        "print(\"Concatenated Tuple1 and Tuple2:\", concatenated_Tuples)\n",
        "# Membership\n",
        "is_a_in_Tuple1 = 'a' in Tuple1\n",
        "print(\"Is 'a' in Tuple1?\", is_a_in_Tuple1)\n",
        "# Iteration\n",
        "print(\"Iterating over Tuple1:\")\n",
        "for item in Tuple1:\n",
        "  print(item)\n"
      ],
      "metadata": {
        "colab": {
          "base_uri": "https://localhost:8080/"
        },
        "id": "v1ozC4qvF0Mj",
        "outputId": "751b00cd-82c1-406c-968f-b0abf6e1a994"
      },
      "execution_count": 12,
      "outputs": [
        {
          "output_type": "stream",
          "name": "stdout",
          "text": [
            "Repeated Tuple1: ('a', 'b', 'c', 'd', 'a', 'b', 'c', 'd')\n",
            "Concatenated Tuple1 and Tuple2: ('a', 'b', 'c', 'd', 'e', 'f', 'g', 'h')\n",
            "Is 'a' in Tuple1? True\n",
            "Iterating over Tuple1:\n",
            "a\n",
            "b\n",
            "c\n",
            "d\n"
          ]
        }
      ]
    },
    {
      "cell_type": "code",
      "source": [
        "#Set Operations\n",
        "Set1 = {1, 4, 2, 4, 5, 6, 3, 5, 4, 6, 77, 8, 7, 7, 876}\n",
        "Set2 = {3, 432, 5, 6, 4, 6, 7, 6, 5, 6, 54, 567, 5}\n",
        "# Union\n",
        "union_Set1_Set2 = Set1 | Set2\n",
        "print(\"Union of Set1 and Set2:\", union_Set1_Set2)\n",
        "# Intersection\n",
        "intersection_Set1_Set2 = Set1 & Set2\n",
        "print(\"Intersection of Set1 and Set2:\", intersection_Set1_Set2)\n",
        "# Difference\n",
        "difference_Set1_Set2 = Set1 - Set2\n",
        "print(\"Difference of Set1 and Set2 (Set1 - Set2):\", difference_Set1_Set2)\n",
        "# Symmetric difference\n",
        "symmetric_difference_Set1_Set2 = Set1 ^ Set2\n",
        "print(\"Symmetric Difference of Set1 and Set2:\", symmetric_difference_Set1_Set2)"
      ],
      "metadata": {
        "colab": {
          "base_uri": "https://localhost:8080/"
        },
        "id": "vkH3cZ1YI5XP",
        "outputId": "211184db-a258-49a5-b097-442bbff5616c"
      },
      "execution_count": 13,
      "outputs": [
        {
          "output_type": "stream",
          "name": "stdout",
          "text": [
            "Union of Set1 and Set2: {1, 2, 3, 4, 5, 6, 7, 8, 876, 77, 432, 54, 567}\n",
            "Intersection of Set1 and Set2: {3, 4, 5, 6, 7}\n",
            "Difference of Set1 and Set2 (Set1 - Set2): {1, 2, 8, 876, 77}\n",
            "Symmetric Difference of Set1 and Set2: {1, 2, 8, 876, 77, 432, 54, 567}\n"
          ]
        }
      ]
    },
    {
      "cell_type": "code",
      "source": [
        "#Dictionary Operations\n",
        "dict = {'Name': 'Hello', 'Age': 22}\n",
        "# Length\n",
        "length_given_dict = len(dict)\n",
        "print(\"Length of Given Dictionary:\", length_given_dict)\n",
        "# String\n",
        "string_given_dict = str(dict)\n",
        "print(\"String representation of Given Dictionary:\", string_given_dict)\n",
        "dictionaries = {0:\" Data\",1: \"GREAT\", 2: \"LEARNING\",3:\"Python\",4:\"Happy\"}\n",
        "# Copy\n",
        "copied_dictionaries = dictionaries.copy()\n",
        "print(\"Copied Given Dictionary:\", copied_dictionaries)\n",
        "# Key\n",
        "keys = ['a', 'b', 'c']\n",
        "new_dict = dict.fromkeys(keys, \"Default Value\")\n",
        "print(\"New Dictionary from Keys:\", new_dict)\n",
        "# Dict Value\n",
        "values_given = dictionaries.values()\n",
        "print(\"Values in Given Dictionary:\", list(values_given))"
      ],
      "metadata": {
        "colab": {
          "base_uri": "https://localhost:8080/"
        },
        "id": "EQ2VMNVcJBkK",
        "outputId": "c9937fb4-c871-42b4-9342-f03fed496243"
      },
      "execution_count": 14,
      "outputs": [
        {
          "output_type": "stream",
          "name": "stdout",
          "text": [
            "Length of Given Dictionary: 2\n",
            "String representation of Given Dictionary: {'Name': 'Hello', 'Age': 22}\n",
            "Copied Given Dictionary: {0: ' Data', 1: 'GREAT', 2: 'LEARNING', 3: 'Python', 4: 'Happy'}\n",
            "New Dictionary from Keys: {'a': 'Default Value', 'b': 'Default Value', 'c': 'Default Value'}\n",
            "Values in Given Dictionary: [' Data', 'GREAT', 'LEARNING', 'Python', 'Happy']\n"
          ]
        }
      ]
    },
    {
      "cell_type": "code",
      "source": [],
      "metadata": {
        "id": "MCpAGl2OJQAF"
      },
      "execution_count": null,
      "outputs": []
    }
  ]
}