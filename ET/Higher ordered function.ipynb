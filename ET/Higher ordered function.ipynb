{
  "nbformat": 4,
  "nbformat_minor": 0,
  "metadata": {
    "colab": {
      "provenance": []
    },
    "kernelspec": {
      "name": "python3",
      "display_name": "Python 3"
    },
    "language_info": {
      "name": "python"
    }
  },
  "cells": [
    {
      "cell_type": "code",
      "execution_count": 16,
      "metadata": {
        "colab": {
          "base_uri": "https://localhost:8080/"
        },
        "id": "od8gDdHHFtrh",
        "outputId": "7c12c25d-740a-4b18-a948-0d45515b7a9e"
      },
      "outputs": [
        {
          "output_type": "stream",
          "name": "stdout",
          "text": [
            "Product of all numbers: 504\n"
          ]
        }
      ],
      "source": [
        "# 1. Write a Python function to multiply all the numbers in a list.\n",
        "def multiply_numbers(numbers):\n",
        "  result = 1\n",
        "  for num in numbers:\n",
        "    result *= num\n",
        "  return result\n",
        "# Example usage\n",
        "numbers_list = [7, 8, 9]\n",
        "print(\"Product of all numbers:\", multiply_numbers(numbers_list))\n"
      ]
    },
    {
      "cell_type": "code",
      "source": [
        "#2. Write a Python function to reverse a string use the while loop also?\n",
        "def reverse_string(text):\n",
        "  reversed_text = \"\"\n",
        "  i = len(text)\n",
        "  while i:\n",
        "    i -= 1\n",
        "    reversed_text += text[i]\n",
        "  return reversed_text\n",
        "print(reverse_string(\"Random\"))"
      ],
      "metadata": {
        "colab": {
          "base_uri": "https://localhost:8080/"
        },
        "id": "MCpAGl2OJQAF",
        "outputId": "5ea153c0-cd2c-4882-c038-1ea3f50ed291"
      },
      "execution_count": 22,
      "outputs": [
        {
          "output_type": "stream",
          "name": "stdout",
          "text": [
            "modnaR\n"
          ]
        }
      ]
    },
    {
      "cell_type": "code",
      "source": [
        "# 3. Write a function to add and subtract two variables\n",
        "def add_and_subtract(x, y):\n",
        "  return x + y, x - y\n",
        "a, b = 10, 5\n",
        "sum_result, diff_result = add_and_subtract(a, b)\n",
        "print(\"Sum:\", sum_result)\n",
        "print(\"Difference:\", diff_result)\n"
      ],
      "metadata": {
        "colab": {
          "base_uri": "https://localhost:8080/"
        },
        "id": "7N0fev7FLPvX",
        "outputId": "9d6d6e49-b133-46b1-a378-d0c4a76923e5"
      },
      "execution_count": 26,
      "outputs": [
        {
          "output_type": "stream",
          "name": "stdout",
          "text": [
            "Sum: 15\n",
            "Difference: 5\n"
          ]
        }
      ]
    },
    {
      "cell_type": "code",
      "source": [
        "# 4. Write a function to check the number is divisible by 12\n",
        "def is_divisible_by_12(number):\n",
        "  if number % 12 == 0:\n",
        "   return True\n",
        "  else:\n",
        "    return False\n",
        "num = 36\n",
        "if is_divisible_by_12(num):\n",
        "  print(num, \"is divisible by 12\")\n",
        "else:\n",
        "  print(num, \"is not divisible by 12\")"
      ],
      "metadata": {
        "colab": {
          "base_uri": "https://localhost:8080/"
        },
        "id": "RwCM-UD0LU3z",
        "outputId": "ab0bb29a-b5a3-412d-a1bf-37f2a9a61cf7"
      },
      "execution_count": 27,
      "outputs": [
        {
          "output_type": "stream",
          "name": "stdout",
          "text": [
            "36 is divisible by 12\n"
          ]
        }
      ]
    },
    {
      "cell_type": "code",
      "source": [
        "# 5. Write a function to calculate the number of days and weeks\n",
        "def calculate_weeks_and_days(total_days):\n",
        "  weeks = total_days // 7 # Calculate the number of weeks\n",
        "  days = total_days % 7 # Calculate the remaining days\n",
        "  return weeks, days\n",
        "# Example usage\n",
        "number_of_days = 15\n",
        "weeks, days = calculate_weeks_and_days(number_of_days)\n",
        "print(\"Weeks:\", weeks)\n",
        "print(\"Days:\", days)"
      ],
      "metadata": {
        "colab": {
          "base_uri": "https://localhost:8080/"
        },
        "id": "7vQ0Zy8zLs7z",
        "outputId": "c3f58df7-5670-40fe-fe3d-8bf8f3d336df"
      },
      "execution_count": 28,
      "outputs": [
        {
          "output_type": "stream",
          "name": "stdout",
          "text": [
            "Weeks: 2\n",
            "Days: 1\n"
          ]
        }
      ]
    },
    {
      "cell_type": "code",
      "source": [
        "# 6. Write a Python function to Find the 5!?\n",
        "def factorial(n):\n",
        "  result = 1\n",
        "  for i in range(1, n + 1):\n",
        "    result = result * i\n",
        "  return result\n",
        "print(\"5! =\", factorial(5))\n"
      ],
      "metadata": {
        "colab": {
          "base_uri": "https://localhost:8080/"
        },
        "id": "QH_u7AVrLzTO",
        "outputId": "97c063cf-21f5-4926-e624-5a814faf70af"
      },
      "execution_count": 29,
      "outputs": [
        {
          "output_type": "stream",
          "name": "stdout",
          "text": [
            "5! = 120\n"
          ]
        }
      ]
    },
    {
      "cell_type": "code",
      "source": [
        "# 7. Write a Python function Find the unique elements of the first list =\n",
        "[1,2,3,3,3,3,4,5,4,2,4,2,4,4,2,4,5,4,34,654,5,7,6,5,4,3,]\n",
        "def find_unique_elements(input_list):\n",
        "  unique_elements = []\n",
        "  for item in input_list:\n",
        "    if item not in unique_elements:\n",
        "      unique_elements.append(item)\n",
        "  return unique_elements\n",
        "first_list = [1, 2, 3, 3, 3, 3, 4, 5, 4, 2, 4, 2, 4, 4, 2, 4, 5, 4, 34, 654, 5, 7, 6, 5, 4, 3]\n",
        "unique_values = find_unique_elements(first_list)\n",
        "print(\"Unique elements:\", unique_values)"
      ],
      "metadata": {
        "colab": {
          "base_uri": "https://localhost:8080/"
        },
        "id": "t7MVS7X2L5gJ",
        "outputId": "65efd924-12b3-45ab-c0f9-4798f90083e6"
      },
      "execution_count": 31,
      "outputs": [
        {
          "output_type": "stream",
          "name": "stdout",
          "text": [
            "Unique elements: [1, 2, 3, 4, 5, 34, 654, 7, 6]\n"
          ]
        }
      ]
    },
    {
      "cell_type": "code",
      "source": [
        "# 8. Required arguments: (the function simple_interest accepts three arguments and returns the simple interest accordingly)\n",
        "def simple_interest(principal, rate, time):\n",
        "  interest = (principal * rate * time) / 100\n",
        "  return interest\n",
        "p = 1000\n",
        "r = 5\n",
        "t = 3\n",
        "interest = simple_interest(p, r, t)\n",
        "print(\"Simple Interest:\", interest)"
      ],
      "metadata": {
        "colab": {
          "base_uri": "https://localhost:8080/"
        },
        "id": "fEbAm5pKMDI2",
        "outputId": "a8b6702d-f2a4-41a5-8058-aa503e438a6c"
      },
      "execution_count": 32,
      "outputs": [
        {
          "output_type": "stream",
          "name": "stdout",
          "text": [
            "Simple Interest: 150.0\n"
          ]
        }
      ]
    },
    {
      "cell_type": "code",
      "source": [
        "# 9. Keyword arguments:(Function is called with the name and message as the keyword arguments)\n",
        "def greet(name, message):\n",
        "  print(\"Hello,\", name + \"!\")\n",
        "  print(message)\n",
        "# Example usage with keyword arguments\n",
        "greet(name=\"Ram\", message=\"Happy Diwali!\")"
      ],
      "metadata": {
        "colab": {
          "base_uri": "https://localhost:8080/"
        },
        "id": "mUD7cVGRMbzX",
        "outputId": "0c8ec48b-2a89-4ea3-bf62-6f81c35b815c"
      },
      "execution_count": 34,
      "outputs": [
        {
          "output_type": "stream",
          "name": "stdout",
          "text": [
            "Hello, Ram!\n",
            "Happy Diwali!\n"
          ]
        }
      ]
    },
    {
      "cell_type": "code",
      "source": [
        "# 10. Default Arguments:()\n",
        "def greet(name, message=\"Welcome to the program!\"):\n",
        "  print(\"Hello,\", name + \"!\")\n",
        "  print(message)\n",
        "# Example usage\n",
        "greet(\"Ram\") # Calls the function with the default message\n",
        "greet(\"Lakhan\", \"Hope you have a great day!\") # Calls the function with a custom message"
      ],
      "metadata": {
        "colab": {
          "base_uri": "https://localhost:8080/"
        },
        "id": "TzRk-nt7MoBD",
        "outputId": "e8fabddb-c4c3-474c-a991-7365c534addb"
      },
      "execution_count": 35,
      "outputs": [
        {
          "output_type": "stream",
          "name": "stdout",
          "text": [
            "Hello, Ram!\n",
            "Welcome to the program!\n",
            "Hello, Lakhan!\n",
            "Hope you have a great day!\n"
          ]
        }
      ]
    },
    {
      "cell_type": "code",
      "source": [
        "# 11. Write a lambda function to find the sum of two numbers\n",
        "add = lambda x, y: x + y\n",
        "result = add(5, 3)\n",
        "print(\"Sum:\", result)\n"
      ],
      "metadata": {
        "colab": {
          "base_uri": "https://localhost:8080/"
        },
        "id": "1-E4sZQQMxrW",
        "outputId": "2fd6aaaa-94ce-4f82-b834-e09243f3f9b7"
      },
      "execution_count": 36,
      "outputs": [
        {
          "output_type": "stream",
          "name": "stdout",
          "text": [
            "Sum: 8\n"
          ]
        }
      ]
    },
    {
      "cell_type": "code",
      "source": [
        "#12. Adding two lists using map lis1 = [12, 24, 36] and lis2 = [41, 54, 69]\n",
        "# Given lists\n",
        "lis1 = [12, 24, 36]\n",
        "lis2 = [41, 54, 69]\n",
        "result = list(map(lambda x, y: x + y, lis1, lis2))\n",
        "print(\"Sum of two lists:\", result)"
      ],
      "metadata": {
        "colab": {
          "base_uri": "https://localhost:8080/"
        },
        "id": "a96CxGZSM0fX",
        "outputId": "ff433fdd-ad04-4f17-ea7d-e7a67f998d34"
      },
      "execution_count": 38,
      "outputs": [
        {
          "output_type": "stream",
          "name": "stdout",
          "text": [
            "Sum of two lists: [53, 78, 105]\n"
          ]
        }
      ]
    },
    {
      "cell_type": "code",
      "source": [
        "# 13. Filter the lis1 = [3,12, 24, 36,43,654,65432,2,654,455,43,543] which is not divided by 2?\n",
        "lis1 = [3, 12, 24, 36, 43, 654, 65432, 2, 654, 455, 43, 543]\n",
        "not_divisible_by_2 = list(filter(lambda x: x % 2 != 0, lis1))\n",
        "print(\"Numbers not divisible by 2:\", not_divisible_by_2)"
      ],
      "metadata": {
        "colab": {
          "base_uri": "https://localhost:8080/"
        },
        "id": "rkHhjh3LM2ag",
        "outputId": "9e16757e-3067-470f-f9b6-4bbecb4a5b06"
      },
      "execution_count": 39,
      "outputs": [
        {
          "output_type": "stream",
          "name": "stdout",
          "text": [
            "Numbers not divisible by 2: [3, 43, 455, 43, 543]\n"
          ]
        }
      ]
    },
    {
      "cell_type": "code",
      "source": [],
      "metadata": {
        "id": "lOjEh_PzNFIC"
      },
      "execution_count": null,
      "outputs": []
    }
  ]
}