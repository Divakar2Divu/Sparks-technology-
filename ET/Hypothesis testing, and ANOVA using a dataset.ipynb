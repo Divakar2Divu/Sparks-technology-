{
  "nbformat": 4,
  "nbformat_minor": 0,
  "metadata": {
    "colab": {
      "provenance": []
    },
    "kernelspec": {
      "name": "python3",
      "display_name": "Python 3"
    },
    "language_info": {
      "name": "python"
    }
  },
  "cells": [
    {
      "cell_type": "code",
      "execution_count": 55,
      "metadata": {
        "id": "od8gDdHHFtrh"
      },
      "outputs": [],
      "source": [
        "import pandas as pd, seaborn as sns\n",
        "from scipy.stats import ttest_ind, ttest_1samp\n",
        "df = pd.read_csv(\"/content/Crop_recommendation.csv\")\n",
        "# A. Two-Sample T-Test for Temperature and Humidity\n",
        "rice = df[df['label'] == 'rice']\n",
        "jute = df[df['label'] == 'jute']\n",
        "banana = df[df['label'] == 'banana']\n",
        "grapes = df[df['label'] == 'grapes']\n",
        "# 1. Rice and Jute\n",
        "t_temp_rice_jute, p_temp_rice_jute = ttest_ind(rice['temperature'], jute['temperature'],\n",
        "equal_var=False)\n",
        "t_humid_rice_jute, p_humid_rice_jute = ttest_ind(rice['humidity'], jute['humidity'], equal_var=False)\n",
        "# 2. Banana and Grapes\n",
        "t_temp_banana_grapes, p_temp_banana_grapes = ttest_ind(banana['temperature'],\n",
        "grapes['temperature'], equal_var=False)\n",
        "t_humid_banana_grapes, p_humid_banana_grapes = ttest_ind(banana['humidity'], grapes['humidity'],\n",
        "equal_var=False)"
      ]
    },
    {
      "cell_type": "code",
      "source": [
        "# B. One-Sample T-Test for pH of Mango\n",
        "mango = df[df['label'] == 'mango']\n",
        "t_ph_mango, p_ph_mango = ttest_1samp(mango['ph'], 7.5)"
      ],
      "metadata": {
        "id": "H7CmevpM6e12"
      },
      "execution_count": 56,
      "outputs": []
    },
    {
      "cell_type": "code",
      "source": [
        "print(\"A. Two-Sample T-Test Results\")\n",
        "print(\"Rice vs Jute (Temperature): t-stat =\", t_temp_rice_jute, \"p-value =\", p_temp_rice_jute)\n",
        "print(\"Rice vs Jute (Humidity): t-stat =\", t_humid_rice_jute, \"p-value =\", p_humid_rice_jute)\n",
        "36\n",
        "print(\"Banana vs Grapes (Temperature): t-stat =\", t_temp_banana_grapes, \"p-value =\",\n",
        "p_temp_banana_grapes)\n",
        "print(\"Banana vs Grapes (Humidity): t-stat =\", t_humid_banana_grapes, \"p-value =\",\n",
        "p_humid_banana_grapes)"
      ],
      "metadata": {
        "colab": {
          "base_uri": "https://localhost:8080/"
        },
        "id": "kEmECw586tKE",
        "outputId": "cc231e31-17b0-4742-9ab9-d42668c0045e"
      },
      "execution_count": 57,
      "outputs": [
        {
          "output_type": "stream",
          "name": "stdout",
          "text": [
            "A. Two-Sample T-Test Results\n",
            "Rice vs Jute (Temperature): t-stat = -5.3962205928971 p-value = 2.423334234277455e-07\n",
            "Rice vs Jute (Humidity): t-stat = 4.6293767138756845 p-value = 9.930519184696664e-06\n",
            "Banana vs Grapes (Temperature): t-stat = 3.583542334338258 p-value = 0.0005190570290180831\n",
            "Banana vs Grapes (Humidity): t-stat = -4.986508831451447 p-value = 1.885646871643836e-06\n"
          ]
        }
      ]
    },
    {
      "cell_type": "code",
      "source": [
        "print(\"\\nB. One-Sample T-Test for Mango pH\")\n",
        "print(\"Mango (pH): t-stat =\", t_ph_mango, \"p-value =\", p_ph_mango)"
      ],
      "metadata": {
        "colab": {
          "base_uri": "https://localhost:8080/"
        },
        "id": "G_KgFkEp6wfR",
        "outputId": "75c84ffa-c00b-411a-8abb-b4c7692c6c34"
      },
      "execution_count": 58,
      "outputs": [
        {
          "output_type": "stream",
          "name": "stdout",
          "text": [
            "\n",
            "B. One-Sample T-Test for Mango pH\n",
            "Mango (pH): t-stat = -24.637475315453777 p-value = 5.047616652631542e-44\n"
          ]
        }
      ]
    },
    {
      "cell_type": "code",
      "source": [
        "#1. Rice vs Jute (Temperature and Humidity)\n",
        "print(\"Hypothesis Testing for Rice vs Jute (Temperature):\")\n",
        "print(\"Null Hypothesis (H0): The mean temperature of rice and jute are the same.\")\n",
        "print(\"Alternative Hypothesis (H1): The mean temperature of rice and jute are different.\")\n",
        "print(\"\\nHypothesis Testing for Rice vs Jute (Humidity):\")\n",
        "print(\"Null Hypothesis (H0): The mean humidity of rice and jute are the same.\")\n",
        "print(\"Alternative Hypothesis (H1): The mean humidity of rice and jute are different.\")"
      ],
      "metadata": {
        "colab": {
          "base_uri": "https://localhost:8080/"
        },
        "id": "6dX4UMuP6yVK",
        "outputId": "af265a60-88a7-42b6-b2cb-03caf002badf"
      },
      "execution_count": 59,
      "outputs": [
        {
          "output_type": "stream",
          "name": "stdout",
          "text": [
            "Hypothesis Testing for Rice vs Jute (Temperature):\n",
            "Null Hypothesis (H0): The mean temperature of rice and jute are the same.\n",
            "Alternative Hypothesis (H1): The mean temperature of rice and jute are different.\n",
            "\n",
            "Hypothesis Testing for Rice vs Jute (Humidity):\n",
            "Null Hypothesis (H0): The mean humidity of rice and jute are the same.\n",
            "Alternative Hypothesis (H1): The mean humidity of rice and jute are different.\n"
          ]
        }
      ]
    },
    {
      "cell_type": "code",
      "source": [
        "#2. Banana vs Grapes (Temperature and Humidity)\n",
        "print(\"Hypothesis Testing for Banana vs Grapes (Temperature):\")\n",
        "print(\"Null Hypothesis (H0): The mean temperature of banana and grapes are the same.\")\n",
        "print(\"Alternative Hypothesis (H1): The mean temperature of banana and grapes are different.\")\n",
        "print(\"\\nHypothesis Testing for Banana vs Grapes (Humidity):\")\n",
        "print(\"Null Hypothesis (H0): The mean humidity of banana and grapes are the same.\")\n",
        "print(\"Alternative Hypothesis (H1): The mean humidity of banana and grapes are different.\")"
      ],
      "metadata": {
        "colab": {
          "base_uri": "https://localhost:8080/"
        },
        "id": "wakxvB_d60tt",
        "outputId": "51d98da8-4b87-4021-a3d2-76702a175f20"
      },
      "execution_count": 60,
      "outputs": [
        {
          "output_type": "stream",
          "name": "stdout",
          "text": [
            "Hypothesis Testing for Banana vs Grapes (Temperature):\n",
            "Null Hypothesis (H0): The mean temperature of banana and grapes are the same.\n",
            "Alternative Hypothesis (H1): The mean temperature of banana and grapes are different.\n",
            "\n",
            "Hypothesis Testing for Banana vs Grapes (Humidity):\n",
            "Null Hypothesis (H0): The mean humidity of banana and grapes are the same.\n",
            "Alternative Hypothesis (H1): The mean humidity of banana and grapes are different.\n"
          ]
        }
      ]
    },
    {
      "cell_type": "code",
      "source": [
        "# Mango (pH)\n",
        "print(\"\\nHypothesis Testing for Mango pH:\")\n",
        "print(\"Null Hypothesis (H0): The mean pH of mango is 7.5.\")\n",
        "print(\"Alternative Hypothesis (H1): The mean pH of mango is not equal to 7.5.\")"
      ],
      "metadata": {
        "colab": {
          "base_uri": "https://localhost:8080/"
        },
        "id": "vr31SAqf63qt",
        "outputId": "76ae71b6-d33c-44a4-e32f-2094110a8211"
      },
      "execution_count": 61,
      "outputs": [
        {
          "output_type": "stream",
          "name": "stdout",
          "text": [
            "\n",
            "Hypothesis Testing for Mango pH:\n",
            "Null Hypothesis (H0): The mean pH of mango is 7.5.\n",
            "Alternative Hypothesis (H1): The mean pH of mango is not equal to 7.5.\n"
          ]
        }
      ]
    },
    {
      "cell_type": "code",
      "source": [
        "#Inferences\n",
        "#1) Inference based on Temperature\n",
        "if p_temp_rice_jute < 0.05:\n",
        "  print(\"Inference: Reject the Null Hypothesis. The mean temperature of rice and jute are significantly different.\")\n",
        "else:\n",
        "  print(\"Inference: Fail to reject the Null Hypothesis. There is no significant difference in temperature between rice and jute.\")"
      ],
      "metadata": {
        "colab": {
          "base_uri": "https://localhost:8080/"
        },
        "id": "VZvpVEnB66_g",
        "outputId": "a9d508a3-64a6-4aac-d44f-af2fbc5618ed"
      },
      "execution_count": 63,
      "outputs": [
        {
          "output_type": "stream",
          "name": "stdout",
          "text": [
            "Inference: Reject the Null Hypothesis. The mean temperature of rice and jute are significantly different.\n"
          ]
        }
      ]
    },
    {
      "cell_type": "code",
      "source": [
        "#2) Inference based on Humidity\n",
        "if p_humid_rice_jute < 0.05:\n",
        "  print(\"Inference: Reject the Null Hypothesis. The mean humidity of rice and jute are significantly different.\")\n",
        "else:\n",
        "  print(\"Inference: Fail to reject the Null Hypothesis. There is no significant difference in humidity between rice and jute.\")"
      ],
      "metadata": {
        "colab": {
          "base_uri": "https://localhost:8080/"
        },
        "id": "qNSJLRu_6-aE",
        "outputId": "f8747f61-df26-411d-9ff2-015842e0fbc5"
      },
      "execution_count": 64,
      "outputs": [
        {
          "output_type": "stream",
          "name": "stdout",
          "text": [
            "Inference: Reject the Null Hypothesis. The mean humidity of rice and jute are significantly different.\n"
          ]
        }
      ]
    },
    {
      "cell_type": "code",
      "source": [
        "#2) Banana vs Grapes\n",
        "##1) Inference based on Temperature\n",
        "if p_temp_banana_grapes < 0.05:\n",
        "  print(\"Inference: Reject the Null Hypothesis. The mean temperature of banana and grapes are significantly different.\")\n",
        "else:\n",
        "  print(\"Inference: Fail to reject the Null Hypothesis. There is no significant difference in temperature between banana and grapes.\")"
      ],
      "metadata": {
        "colab": {
          "base_uri": "https://localhost:8080/"
        },
        "id": "HAyrDf117JcO",
        "outputId": "e929c5a7-ba48-45b4-c954-f6926f099574"
      },
      "execution_count": 65,
      "outputs": [
        {
          "output_type": "stream",
          "name": "stdout",
          "text": [
            "Inference: Reject the Null Hypothesis. The mean temperature of banana and grapes are significantly different.\n"
          ]
        }
      ]
    },
    {
      "cell_type": "code",
      "source": [
        "#2) Inference based on Humidity\n",
        "if p_humid_banana_grapes < 0.05:\n",
        "  print(\"Inference: Reject the null hypothesis. The humidity requirements of banana and grapes are significantly different.\")\n",
        "else:\n",
        "  print(\"Inference: Fail to reject the null hypothesis. The humidity requirements of banana and grapes are not significantly different.\")"
      ],
      "metadata": {
        "colab": {
          "base_uri": "https://localhost:8080/"
        },
        "id": "UcyEbcg-7X-T",
        "outputId": "77e90b31-f6a7-4681-940e-dde8556c2da2"
      },
      "execution_count": 66,
      "outputs": [
        {
          "output_type": "stream",
          "name": "stdout",
          "text": [
            "Inference: Reject the null hypothesis. The humidity requirements of banana and grapes are significantly different.\n"
          ]
        }
      ]
    },
    {
      "cell_type": "code",
      "source": [
        "# Inference based on p-value\n",
        "if p_ph_mango < 0.05:\n",
        "  print(\"Inference: Reject the Null Hypothesis. The pH of mango is significantly different from 7.5.\")\n",
        "else:\n",
        "  print(\"Inference: Fail to reject the Null Hypothesis. The pH of mango is not significantly different from 7.5.\")\n"
      ],
      "metadata": {
        "colab": {
          "base_uri": "https://localhost:8080/"
        },
        "id": "iD82pNXp7lJl",
        "outputId": "ec029712-6436-4b7d-af44-1c27b067bd69"
      },
      "execution_count": 67,
      "outputs": [
        {
          "output_type": "stream",
          "name": "stdout",
          "text": [
            "Inference: Reject the Null Hypothesis. The pH of mango is significantly different from 7.5.\n"
          ]
        }
      ]
    },
    {
      "cell_type": "code",
      "source": [],
      "metadata": {
        "id": "aPoJqnPR7sLs"
      },
      "execution_count": null,
      "outputs": []
    }
  ]
}