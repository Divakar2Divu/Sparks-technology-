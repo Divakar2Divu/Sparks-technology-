{
  "nbformat": 4,
  "nbformat_minor": 0,
  "metadata": {
    "colab": {
      "provenance": []
    },
    "kernelspec": {
      "name": "python3",
      "display_name": "Python 3"
    },
    "language_info": {
      "name": "python"
    }
  },
  "cells": [
    {
      "cell_type": "code",
      "execution_count": 10,
      "metadata": {
        "colab": {
          "base_uri": "https://localhost:8080/"
        },
        "id": "od8gDdHHFtrh",
        "outputId": "085284af-3e49-4933-8a34-366ae6c869ad"
      },
      "outputs": [
        {
          "output_type": "stream",
          "name": "stdout",
          "text": [
            "Enter the shopping amount: 500\n",
            "Amount to be paid after discount: 450.0\n"
          ]
        }
      ],
      "source": [
        "# Accept the shopping amount from the user\n",
        "amount = float(input(\"Enter the shopping amount: \"))\n",
        "# Apply discount based on the amount entered\n",
        "if amount >= 5000:\n",
        "  discount = 0.50 # 50% discount for amounts 5000 or more\n",
        "elif amount >= 2000:\n",
        "  discount = 0.25 # 25% discount for amounts 2000 or more\n",
        "elif amount >= 500:\n",
        "  discount = 0.10 # 10% discount for amounts 500 or more\n",
        "else:\n",
        "  discount = 0 # No discount for amounts less than 500\n",
        "# Calculate the final amount to be paid after applying the discount\n",
        "final_amount = amount - (amount * discount)\n",
        "# Display the final amount to the user\n",
        "print(\"Amount to be paid after discount:\", final_amount)"
      ]
    },
    {
      "cell_type": "code",
      "source": [],
      "metadata": {
        "id": "v1ozC4qvF0Mj"
      },
      "execution_count": null,
      "outputs": []
    }
  ]
}