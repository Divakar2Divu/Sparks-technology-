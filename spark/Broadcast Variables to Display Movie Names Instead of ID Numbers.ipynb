{
  "cells": [
    {
      "cell_type": "code",
      "source": [
        "from pyspark.sql import SparkSession\n",
        "\n",
        "# Step 1: Create a SparkSession\n",
        "spark = SparkSession.builder \\\n",
        "    .appName(\"BroadcastVariablesExample\") \\\n",
        "    .master(\"local[*]\") \\\n",
        "    .getOrCreate()\n",
        "\n",
        "# Step 2: Create a DataFrame with movie IDs and ratings\n",
        "movie_data = [\n",
        "    (1, 4.5),\n",
        "    (2, 3.0),\n",
        "    (1, 5.0),\n",
        "    (3, 4.0)\n",
        "]\n",
        "columns = [\"MovieID\", \"Rating\"]\n",
        "ratings_df = spark.createDataFrame(movie_data, columns)\n",
        "\n",
        "# Step 3: Create a dictionary with movie names\n",
        "movie_names = {\n",
        "    1: \"Inception\",\n",
        "    2: \"Interstellar\",\n",
        "    3: \"The Dark Knight\"\n",
        "}\n",
        "\n",
        "# Step 4: Broadcast the movie names dictionary\n",
        "movie_names_broadcast = spark.sparkContext.broadcast(movie_names)\n",
        "\n",
        "# Step 5: Map MovieID to Movie Name using the broadcast variable\n",
        "def map_movie_name(movie_id):\n",
        "    return movie_names_broadcast.value.get(movie_id, \"Unknown\")\n",
        "\n",
        "# Register the function as a UDF\n",
        "from pyspark.sql.functions import udf\n",
        "from pyspark.sql.types import StringType\n",
        "\n",
        "map_movie_name_udf = udf(map_movie_name, StringType())\n",
        "\n",
        "# Add a new column with movie names\n",
        "result_df = ratings_df.withColumn(\"MovieName\", map_movie_name_udf(ratings_df.MovieID))\n",
        "\n",
        "# Step 6: Show the result\n",
        "result_df.show()\n",
        "\n",
        "# Stop the SparkSession\n",
        "spark.stop()"
      ],
      "metadata": {
        "colab": {
          "base_uri": "https://localhost:8080/"
        },
        "id": "T6YPnA_aEcPJ",
        "outputId": "93dd64b3-46cb-4db1-c7dd-8e817ef0e8bb"
      },
      "execution_count": 6,
      "outputs": [
        {
          "output_type": "stream",
          "name": "stdout",
          "text": [
            "+-------+------+---------------+\n",
            "|MovieID|Rating|      MovieName|\n",
            "+-------+------+---------------+\n",
            "|      1|   4.5|      Inception|\n",
            "|      2|   3.0|   Interstellar|\n",
            "|      1|   5.0|      Inception|\n",
            "|      3|   4.0|The Dark Knight|\n",
            "+-------+------+---------------+\n",
            "\n"
          ]
        }
      ]
    },
    {
      "cell_type": "code",
      "source": [],
      "metadata": {
        "id": "0FkKh3xgFin-"
      },
      "execution_count": null,
      "outputs": []
    }
  ],
  "metadata": {
    "colab": {
      "name": "Welcome To Colab",
      "toc_visible": true,
      "provenance": []
    },
    "kernelspec": {
      "display_name": "Python 3",
      "name": "python3"
    }
  },
  "nbformat": 4,
  "nbformat_minor": 0
}