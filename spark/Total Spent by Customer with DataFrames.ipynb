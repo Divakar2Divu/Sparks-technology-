{
  "cells": [
    {
      "cell_type": "code",
      "source": [
        "from pyspark.sql import SparkSession\n",
        "from pyspark.sql.functions import sum\n",
        "\n",
        "# Step 1: Create a SparkSession\n",
        "spark = SparkSession.builder \\\n",
        "    .appName(\"TotalSpentByCustomer\") \\\n",
        "    .master(\"local[*]\") \\\n",
        "    .getOrCreate()\n",
        "\n",
        "# Step 2: Create a DataFrame with sample data\n",
        "data = [\n",
        "    (\"Alice\", 200),\n",
        "    (\"Bob\", 150),\n",
        "    (\"Alice\", 100),\n",
        "    (\"Bob\", 50),\n",
        "    (\"Alice\", 300)\n",
        "]\n",
        "columns = [\"Customer\", \"Amount\"]\n",
        "df = spark.createDataFrame(data, columns)\n",
        "\n",
        "# Step 3: Group by Customer and calculate the total amount spent\n",
        "result_df = df.groupBy(\"Customer\").agg(sum(\"Amount\").alias(\"TotalSpent\"))\n",
        "\n",
        "# Step 4: Show the result\n",
        "result_df.show()\n",
        "\n",
        "# Stop the SparkSession\n",
        "spark.stop()"
      ],
      "metadata": {
        "colab": {
          "base_uri": "https://localhost:8080/"
        },
        "id": "T6YPnA_aEcPJ",
        "outputId": "be85b0cc-5f76-491f-ea61-27780ec7cb67"
      },
      "execution_count": 5,
      "outputs": [
        {
          "output_type": "stream",
          "name": "stdout",
          "text": [
            "+--------+----------+\n",
            "|Customer|TotalSpent|\n",
            "+--------+----------+\n",
            "|     Bob|       200|\n",
            "|   Alice|       600|\n",
            "+--------+----------+\n",
            "\n"
          ]
        }
      ]
    },
    {
      "cell_type": "code",
      "source": [],
      "metadata": {
        "id": "0FkKh3xgFin-"
      },
      "execution_count": null,
      "outputs": []
    }
  ],
  "metadata": {
    "colab": {
      "name": "Welcome To Colab",
      "toc_visible": true,
      "provenance": []
    },
    "kernelspec": {
      "display_name": "Python 3",
      "name": "python3"
    }
  },
  "nbformat": 4,
  "nbformat_minor": 0
}