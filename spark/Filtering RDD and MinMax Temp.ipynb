{
  "cells": [
    {
      "cell_type": "code",
      "source": [
        "from pyspark import SparkContext, SparkConf\n",
        "\n",
        "# Step 1: Set up SparkContext\n",
        "conf = SparkConf().setAppName(\"MinMaxTemperature\").setMaster(\"local[*]\")\n",
        "sc = SparkContext(conf=conf)\n",
        "\n",
        "# Step 2: Sample temperature data in the form (Location, Temperature)\n",
        "data = [\n",
        "    (\"New York\", 30),\n",
        "    (\"Los Angeles\", 25),\n",
        "    (\"New York\", 28),\n",
        "    (\"Los Angeles\", 22),\n",
        "    (\"New York\", 35),\n",
        "    (\"Los Angeles\", 20),\n",
        "    (\"Chicago\", 15),\n",
        "    (\"Chicago\", 10),\n",
        "    (\"Chicago\", 12)\n",
        "]\n",
        "\n",
        "# Step 3: Create an RDD from the data\n",
        "rdd = sc.parallelize(data)\n",
        "\n",
        "# Step 4: Group data by location and calculate both min and max temperatures for each location\n",
        "grouped_rdd = rdd.groupByKey()\n",
        "\n",
        "# Find both minimum and maximum temperatures\n",
        "min_max_temp_rdd = grouped_rdd.mapValues(lambda temps: (min(temps), max(temps)))\n",
        "\n",
        "# Step 5: Collect the results and display\n",
        "result = min_max_temp_rdd.collect()\n",
        "print(\"Minimum and Maximum Temperatures by Location:\")\n",
        "for location, (min_temp, max_temp) in result:\n",
        "    print(f\"{location}: Min = {min_temp}°C, Max = {max_temp}°C\")\n",
        "\n",
        "# Stop the SparkContext\n",
        "sc.stop()"
      ],
      "metadata": {
        "colab": {
          "base_uri": "https://localhost:8080/"
        },
        "id": "T6YPnA_aEcPJ",
        "outputId": "e3bf8ac6-d60b-4e0a-b7c1-c38c85680c50"
      },
      "execution_count": 2,
      "outputs": [
        {
          "output_type": "stream",
          "name": "stdout",
          "text": [
            "Minimum and Maximum Temperatures by Location:\n",
            "New York: Min = 28°C, Max = 35°C\n",
            "Los Angeles: Min = 20°C, Max = 25°C\n",
            "Chicago: Min = 10°C, Max = 15°C\n"
          ]
        }
      ]
    },
    {
      "cell_type": "code",
      "source": [],
      "metadata": {
        "id": "0FkKh3xgFin-"
      },
      "execution_count": null,
      "outputs": []
    }
  ],
  "metadata": {
    "colab": {
      "name": "Welcome To Colab",
      "toc_visible": true,
      "provenance": []
    },
    "kernelspec": {
      "display_name": "Python 3",
      "name": "python3"
    }
  },
  "nbformat": 4,
  "nbformat_minor": 0
}