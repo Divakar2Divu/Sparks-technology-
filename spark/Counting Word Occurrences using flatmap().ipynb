{
  "cells": [
    {
      "cell_type": "code",
      "source": [
        "from pyspark.sql import SparkSession\n",
        "from pyspark.sql.functions import explode, split, col, count\n",
        "\n",
        "# Step 1: Create a SparkSession\n",
        "spark = SparkSession.builder \\\n",
        "    .appName(\"WordCountDataFrame\") \\\n",
        "    .master(\"local[*]\") \\\n",
        "    .getOrCreate()\n",
        "\n",
        "# Step 2: Create a DataFrame with text data\n",
        "data = [(\"Hello world spark spark\",), (\"Hello again spark\",), (\"Welcome to the world of spark\",)]\n",
        "columns = [\"line\"]\n",
        "df = spark.createDataFrame(data, columns)\n",
        "\n",
        "# Step 3: Split lines into words, explode to create one word per row\n",
        "words_df = df.select(explode(split(col(\"line\"), \" \")).alias(\"word\"))\n",
        "\n",
        "# Step 4: Count occurrences of each word\n",
        "word_count_df = words_df.groupBy(\"word\").agg(count(\"word\").alias(\"count\"))\n",
        "\n",
        "# Step 5: Show the result\n",
        "word_count_df.show()\n",
        "\n",
        "# Stop the SparkSession\n",
        "spark.stop()"
      ],
      "metadata": {
        "colab": {
          "base_uri": "https://localhost:8080/"
        },
        "id": "T6YPnA_aEcPJ",
        "outputId": "ef0cf21e-5df9-403d-9148-f06078f40928"
      },
      "execution_count": 3,
      "outputs": [
        {
          "output_type": "stream",
          "name": "stdout",
          "text": [
            "+-------+-----+\n",
            "|   word|count|\n",
            "+-------+-----+\n",
            "|  Hello|    2|\n",
            "|  spark|    4|\n",
            "|  world|    2|\n",
            "|  again|    1|\n",
            "|    the|    1|\n",
            "|     of|    1|\n",
            "|Welcome|    1|\n",
            "|     to|    1|\n",
            "+-------+-----+\n",
            "\n"
          ]
        }
      ]
    },
    {
      "cell_type": "code",
      "source": [],
      "metadata": {
        "id": "0FkKh3xgFin-"
      },
      "execution_count": null,
      "outputs": []
    }
  ],
  "metadata": {
    "colab": {
      "name": "Welcome To Colab",
      "toc_visible": true,
      "provenance": []
    },
    "kernelspec": {
      "display_name": "Python 3",
      "name": "python3"
    }
  },
  "nbformat": 4,
  "nbformat_minor": 0
}