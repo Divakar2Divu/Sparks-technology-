{
  "cells": [
    {
      "cell_type": "code",
      "source": [
        "from pyspark.sql import SparkSession\n",
        "from pyspark.ml.recommendation import ALS\n",
        "from pyspark.sql.types import IntegerType, FloatType\n",
        "\n",
        "# Step 1: Create a SparkSession\n",
        "spark = SparkSession.builder \\\n",
        "    .appName(\"MovieRecommendations\") \\\n",
        "    .master(\"local[*]\") \\\n",
        "    .getOrCreate()\n",
        "\n",
        "# Step 2: Create a DataFrame with sample user-movie ratings\n",
        "data = [\n",
        "    (0, 1, 4.0),  # User 0 rated Movie 1 with 4.0\n",
        "    (0, 2, 2.0),  # User 0 rated Movie 2 with 2.0\n",
        "    (1, 2, 5.0),  # User 1 rated Movie 2 with 5.0\n",
        "    (1, 3, 3.0),  # User 1 rated Movie 3 with 3.0\n",
        "    (2, 1, 1.0),  # User 2 rated Movie 1 with 1.0\n",
        "    (2, 3, 4.0)   # User 2 rated Movie 3 with 4.0\n",
        "]\n",
        "columns = [\"UserID\", \"MovieID\", \"Rating\"]\n",
        "ratings_df = spark.createDataFrame(data, columns)\n",
        "\n",
        "# Step 3: Create an ALS model\n",
        "als = ALS(\n",
        "    maxIter=5,  # Number of iterations\n",
        "    regParam=0.01,  # Regularization parameter\n",
        "    userCol=\"UserID\",  # Column for users\n",
        "    itemCol=\"MovieID\",  # Column for items\n",
        "    ratingCol=\"Rating\",  # Column for ratings\n",
        "    coldStartStrategy=\"drop\"  # Drop rows with null predictions\n",
        ")\n",
        "\n",
        "# Step 4: Train the ALS model\n",
        "model = als.fit(ratings_df)\n",
        "\n",
        "# Step 5: Generate top 2 movie recommendations for each user\n",
        "user_recommendations = model.recommendForAllUsers(2)\n",
        "\n",
        "# Step 6: Show the recommendations\n",
        "user_recommendations.show(truncate=False)\n",
        "\n",
        "# Stop the SparkSession\n",
        "spark.stop()"
      ],
      "metadata": {
        "colab": {
          "base_uri": "https://localhost:8080/"
        },
        "id": "T6YPnA_aEcPJ",
        "outputId": "588a6e04-c67c-43c9-ed00-f373adaca7a9"
      },
      "execution_count": 7,
      "outputs": [
        {
          "output_type": "stream",
          "name": "stdout",
          "text": [
            "+------+--------------------------------+\n",
            "|UserID|recommendations                 |\n",
            "+------+--------------------------------+\n",
            "|0     |[{1, 3.9940298}, {2, 2.0000753}]|\n",
            "|1     |[{2, 4.9965606}, {3, 3.0001903}]|\n",
            "|2     |[{3, 3.9957175}, {2, 3.9366403}]|\n",
            "+------+--------------------------------+\n",
            "\n"
          ]
        }
      ]
    },
    {
      "cell_type": "code",
      "source": [],
      "metadata": {
        "id": "0FkKh3xgFin-"
      },
      "execution_count": null,
      "outputs": []
    }
  ],
  "metadata": {
    "colab": {
      "name": "Welcome To Colab",
      "toc_visible": true,
      "provenance": []
    },
    "kernelspec": {
      "display_name": "Python 3",
      "name": "python3"
    }
  },
  "nbformat": 4,
  "nbformat_minor": 0
}