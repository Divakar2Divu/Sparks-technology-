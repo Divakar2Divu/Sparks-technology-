{
  "cells": [
    {
      "cell_type": "code",
      "source": [
        "from pyspark.sql import SparkSession\n",
        "from pyspark.sql.functions import col, count, desc\n",
        "\n",
        "# Step 1: Create a SparkSession\n",
        "spark = SparkSession.builder \\\n",
        "    .appName(\"MostViewedURL\") \\\n",
        "    .master(\"local[*]\") \\\n",
        "    .getOrCreate()\n",
        "\n",
        "# Step 2: Create a DataFrame with sample log data\n",
        "data = [\n",
        "    (1, \"http://example.com/home\"),\n",
        "    (2, \"http://example.com/about\"),\n",
        "    (3, \"http://example.com/home\"),\n",
        "    (4, \"http://example.com/contact\"),\n",
        "    (5, \"http://example.com/home\"),\n",
        "    (6, \"http://example.com/about\"),\n",
        "    (7, \"http://example.com/contact\"),\n",
        "    (8, \"http://example.com/home\")\n",
        "]\n",
        "columns = [\"UserID\", \"URL\"]\n",
        "logs_df = spark.createDataFrame(data, columns)\n",
        "\n",
        "# Step 3: Count the number of views for each URL\n",
        "url_counts_df = logs_df.groupBy(\"URL\").agg(count(\"URL\").alias(\"ViewCount\"))\n",
        "\n",
        "# Step 4: Sort the URLs by the number of views in descending order\n",
        "sorted_url_counts_df = url_counts_df.orderBy(desc(\"ViewCount\"))\n",
        "\n",
        "# Step 5: Show the most viewed URLs\n",
        "sorted_url_counts_df.show()\n",
        "\n",
        "# Stop the SparkSession\n",
        "spark.stop()"
      ],
      "metadata": {
        "colab": {
          "base_uri": "https://localhost:8080/"
        },
        "id": "T6YPnA_aEcPJ",
        "outputId": "76e6ece8-a51e-4ce7-fe12-9cf3612f5085"
      },
      "execution_count": 8,
      "outputs": [
        {
          "output_type": "stream",
          "name": "stdout",
          "text": [
            "+--------------------+---------+\n",
            "|                 URL|ViewCount|\n",
            "+--------------------+---------+\n",
            "|http://example.co...|        4|\n",
            "|http://example.co...|        2|\n",
            "|http://example.co...|        2|\n",
            "+--------------------+---------+\n",
            "\n"
          ]
        }
      ]
    },
    {
      "cell_type": "code",
      "source": [],
      "metadata": {
        "id": "0FkKh3xgFin-"
      },
      "execution_count": null,
      "outputs": []
    }
  ],
  "metadata": {
    "colab": {
      "name": "Welcome To Colab",
      "toc_visible": true,
      "provenance": []
    },
    "kernelspec": {
      "display_name": "Python 3",
      "name": "python3"
    }
  },
  "nbformat": 4,
  "nbformat_minor": 0
}