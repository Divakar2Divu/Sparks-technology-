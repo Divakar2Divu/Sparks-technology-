{
  "cells": [
    {
      "cell_type": "code",
      "source": [
        "from pyspark.sql import SparkSession\n",
        "from pyspark.sql.functions import avg, sum, col\n",
        "\n",
        "# Step 1: Create a SparkSession\n",
        "spark = SparkSession.builder \\\n",
        "    .appName(\"SQLCommandsOnDataFrame\") \\\n",
        "    .master(\"local[*]\") \\\n",
        "    .getOrCreate()\n",
        "\n",
        "# Step 2: Create a DataFrame with sample data\n",
        "data = [\n",
        "    (\"Alice\", \"Electronics\", 200),\n",
        "    (\"Bob\", \"Electronics\", 150),\n",
        "    (\"Alice\", \"Clothing\", 100),\n",
        "    (\"Bob\", \"Clothing\", 50),\n",
        "    (\"Alice\", \"Electronics\", 300)\n",
        "]\n",
        "columns = [\"Name\", \"Category\", \"Amount\"]\n",
        "df = spark.createDataFrame(data, columns)\n",
        "\n",
        "# Step 3: Execute SQL-style functions\n",
        "# Calculate total and average spending by category\n",
        "result_df = df.groupBy(\"Category\") \\\n",
        "    .agg(\n",
        "        sum(\"Amount\").alias(\"TotalSpent\"),\n",
        "        avg(\"Amount\").alias(\"AverageSpent\")\n",
        "    )\n",
        "\n",
        "# Step 4: Show the result\n",
        "result_df.show()\n",
        "\n",
        "# Stop the SparkSession\n",
        "spark.stop()"
      ],
      "metadata": {
        "colab": {
          "base_uri": "https://localhost:8080/"
        },
        "id": "T6YPnA_aEcPJ",
        "outputId": "c7dc64a6-8b45-40a6-92ad-af96f90f1c12"
      },
      "execution_count": 4,
      "outputs": [
        {
          "output_type": "stream",
          "name": "stdout",
          "text": [
            "+-----------+----------+------------------+\n",
            "|   Category|TotalSpent|      AverageSpent|\n",
            "+-----------+----------+------------------+\n",
            "|Electronics|       650|216.66666666666666|\n",
            "|   Clothing|       150|              75.0|\n",
            "+-----------+----------+------------------+\n",
            "\n"
          ]
        }
      ]
    },
    {
      "cell_type": "code",
      "source": [],
      "metadata": {
        "id": "0FkKh3xgFin-"
      },
      "execution_count": null,
      "outputs": []
    }
  ],
  "metadata": {
    "colab": {
      "name": "Welcome To Colab",
      "toc_visible": true,
      "provenance": []
    },
    "kernelspec": {
      "display_name": "Python 3",
      "name": "python3"
    }
  },
  "nbformat": 4,
  "nbformat_minor": 0
}